{
 "cells": [
  {
   "cell_type": "code",
   "execution_count": 37,
   "metadata": {
    "collapsed": true
   },
   "outputs": [],
   "source": [
    "import pandas as pd, numpy as np, os, fnmatch\n",
    "from sklearn.preprocessing import MinMaxScaler\n",
    "from sklearn.model_selection import train_test_split\n",
    "from sklearn.preprocessing import LabelEncoder\n",
    "from keras.utils import np_utils\n",
    "%config IPCompleter.greedy=True"
   ]
  },
  {
   "cell_type": "code",
   "execution_count": 24,
   "metadata": {
    "collapsed": true
   },
   "outputs": [],
   "source": [
    "# File Loading\n",
    "os.getcwd()\n",
    "root = \"../Data/\"\n",
    "pre_process_Output = \"../pre_process/\"\n",
    "pattern = \"*.csv\""
   ]
  },
  {
   "cell_type": "code",
   "execution_count": 25,
   "metadata": {
    "collapsed": true
   },
   "outputs": [],
   "source": [
    "cols = ['Time', 'avgrss12', 'varrss12', 'avgrss13', 'varrss13', 'avgrss23', 'varrss23']\n",
    "classes = ['Bending1', 'Bending2', 'Cycling', 'Lying', 'Sitting', 'Standing', 'Walking']\n",
    "features = ['Time', 'avgrss12', 'varrss12', 'avgrss13', 'varrss13', 'avgrss23', 'varrss23']\n",
    "target = ['Motion']"
   ]
  },
  {
   "cell_type": "code",
   "execution_count": 26,
   "metadata": {
    "collapsed": true
   },
   "outputs": [],
   "source": [
    "pdBending1 = pd.DataFrame({}, columns=cols, dtype=float)\n",
    "pdBending2 = pd.DataFrame({}, columns=cols, dtype=float)\n",
    "pdCycling = pd.DataFrame({}, columns=cols, dtype=float)\n",
    "pdLying = pd.DataFrame({}, columns=cols, dtype=float)\n",
    "pdSitting = pd.DataFrame({}, columns=cols, dtype=float)\n",
    "pdStanding = pd.DataFrame({}, columns=cols, dtype=float)\n",
    "pdWalking = pd.DataFrame({}, columns=cols, dtype=float)\n",
    "\n",
    "data = pd.DataFrame({}, columns=cols, dtype=float)"
   ]
  },
  {
   "cell_type": "code",
   "execution_count": 27,
   "metadata": {
    "collapsed": true
   },
   "outputs": [],
   "source": [
    "def trainingSet(filename, label):\n",
    "    global pdBending1, pdBending2, pdCycling, pdLying, pdSitting, pdStanding, pdWalking\n",
    "    temp_df = pd.read_csv(filename, skiprows=5, names=cols, skip_blank_lines=True)\n",
    "    scaler = MinMaxScaler(feature_range=(0, 1))\n",
    "    temp = pd.DataFrame(scaler.fit_transform(temp_df), columns=cols)\n",
    "    if label == 'bending1':\n",
    "        pdBending1 = pdBending1.append(temp)\n",
    "\n",
    "    elif label == 'bending2':\n",
    "        pdBending2 = pdBending2.append(temp)\n",
    "\n",
    "    elif label == 'cycling':\n",
    "        pdCycling = pdCycling.append(temp)\n",
    "\n",
    "    elif label == 'lying':\n",
    "        pdLying = pdLying.append(temp)\n",
    "\n",
    "    elif label == 'sitting':\n",
    "        pdSitting = pdSitting.append(temp)\n",
    "\n",
    "    elif label == 'standing':\n",
    "        pdStanding = pdStanding.append(temp)\n",
    "\n",
    "    elif label == 'walking':\n",
    "        pdWalking = pdWalking.append(temp)"
   ]
  },
  {
   "cell_type": "code",
   "execution_count": 28,
   "metadata": {
    "collapsed": true
   },
   "outputs": [],
   "source": [
    "label = ''\n",
    "for root, dirs, files in os.walk(root):\n",
    "    for filename in files:\n",
    "        if fnmatch.fnmatch(filename, pattern):\n",
    "            with open(os.path.join(root, filename)) as myfile:\n",
    "                label = [next(myfile) for x in range(1)][0].split()[2]\n",
    "            trainingSet((os.path.join(root, filename)), label)"
   ]
  },
  {
   "cell_type": "code",
   "execution_count": 29,
   "metadata": {
    "collapsed": true
   },
   "outputs": [],
   "source": [
    "def dataFrameCollector():\n",
    "    global pdBending1, pdBending2, pdCycling, pdLying, pdSitting, pdStanding, pdWalking, data\n",
    "\n",
    "    pdBending1['Motion'] = classes[0]\n",
    "    pdBending2['Motion'] = classes[1]\n",
    "    pdCycling['Motion'] = classes[2]\n",
    "    pdLying['Motion'] = classes[3]\n",
    "    pdSitting['Motion'] = classes[4]\n",
    "    pdStanding['Motion'] = classes[5]\n",
    "    pdWalking['Motion'] = classes[6]\n",
    "\n",
    "    data = data.append(pdBending1.append(pdBending2.append(pdCycling.append(pdLying.append(\n",
    "        pdSitting.append(pdStanding.append(pdWalking)))))))\n",
    "\n",
    "dataFrameCollector()"
   ]
  },
  {
   "cell_type": "code",
   "execution_count": 30,
   "metadata": {
    "collapsed": true
   },
   "outputs": [],
   "source": [
    "new_index = np.arange(len(data))\n",
    "data.index = new_index"
   ]
  },
  {
   "cell_type": "code",
   "execution_count": 33,
   "metadata": {
    "collapsed": false
   },
   "outputs": [
    {
     "data": {
      "text/html": [
       "<div>\n",
       "<table border=\"1\" class=\"dataframe\">\n",
       "  <thead>\n",
       "    <tr style=\"text-align: right;\">\n",
       "      <th></th>\n",
       "      <th>Motion</th>\n",
       "      <th>Time</th>\n",
       "      <th>avgrss12</th>\n",
       "      <th>avgrss13</th>\n",
       "      <th>avgrss23</th>\n",
       "      <th>varrss12</th>\n",
       "      <th>varrss13</th>\n",
       "      <th>varrss23</th>\n",
       "    </tr>\n",
       "  </thead>\n",
       "  <tbody>\n",
       "    <tr>\n",
       "      <th>0</th>\n",
       "      <td>Bending1</td>\n",
       "      <td>0.000000</td>\n",
       "      <td>0.258065</td>\n",
       "      <td>0.735294</td>\n",
       "      <td>0.590909</td>\n",
       "      <td>0.330769</td>\n",
       "      <td>0.059474</td>\n",
       "      <td>0.677083</td>\n",
       "    </tr>\n",
       "    <tr>\n",
       "      <th>1</th>\n",
       "      <td>Bending1</td>\n",
       "      <td>0.002088</td>\n",
       "      <td>0.258065</td>\n",
       "      <td>0.745098</td>\n",
       "      <td>0.522727</td>\n",
       "      <td>0.330769</td>\n",
       "      <td>0.000000</td>\n",
       "      <td>0.000000</td>\n",
       "    </tr>\n",
       "  </tbody>\n",
       "</table>\n",
       "</div>"
      ],
      "text/plain": [
       "     Motion      Time  avgrss12  avgrss13  avgrss23  varrss12  varrss13  \\\n",
       "0  Bending1  0.000000  0.258065  0.735294  0.590909  0.330769  0.059474   \n",
       "1  Bending1  0.002088  0.258065  0.745098  0.522727  0.330769  0.000000   \n",
       "\n",
       "   varrss23  \n",
       "0  0.677083  \n",
       "1  0.000000  "
      ]
     },
     "execution_count": 33,
     "metadata": {},
     "output_type": "execute_result"
    }
   ],
   "source": [
    "# Scaling\n",
    "data[:2]"
   ]
  },
  {
   "cell_type": "code",
   "execution_count": 39,
   "metadata": {
    "collapsed": false
   },
   "outputs": [
    {
     "name": "stdout",
     "output_type": "stream",
     "text": [
      "[0 0 0 ... 6 6 6]\n"
     ]
    }
   ],
   "source": [
    "# Encoding\n",
    "label_enc = LabelEncoder().fit_transform(data['Motion'])\n",
    "print(label_enc)"
   ]
  },
  {
   "cell_type": "code",
   "execution_count": 40,
   "metadata": {
    "collapsed": false
   },
   "outputs": [
    {
     "name": "stdout",
     "output_type": "stream",
     "text": [
      "[[1. 0. 0. ... 0. 0. 0.]\n",
      " [1. 0. 0. ... 0. 0. 0.]\n",
      " [1. 0. 0. ... 0. 0. 0.]\n",
      " ...\n",
      " [0. 0. 0. ... 0. 0. 1.]\n",
      " [0. 0. 0. ... 0. 0. 1.]\n",
      " [0. 0. 0. ... 0. 0. 1.]]\n"
     ]
    }
   ],
   "source": [
    "# Categorization \n",
    "label_categorized = np_utils.to_categorical(label_enc)\n",
    "print(label_categorized)"
   ]
  },
  {
   "cell_type": "code",
   "execution_count": null,
   "metadata": {
    "collapsed": true
   },
   "outputs": [],
   "source": []
  },
  {
   "cell_type": "code",
   "execution_count": null,
   "metadata": {
    "collapsed": false
   },
   "outputs": [],
   "source": []
  },
  {
   "cell_type": "code",
   "execution_count": null,
   "metadata": {
    "collapsed": false
   },
   "outputs": [],
   "source": []
  },
  {
   "cell_type": "code",
   "execution_count": null,
   "metadata": {
    "collapsed": true
   },
   "outputs": [],
   "source": []
  }
 ],
 "metadata": {
  "kernelspec": {
   "display_name": "Python [conda root]",
   "language": "python",
   "name": "conda-root-py"
  },
  "language_info": {
   "codemirror_mode": {
    "name": "ipython",
    "version": 3
   },
   "file_extension": ".py",
   "mimetype": "text/x-python",
   "name": "python",
   "nbconvert_exporter": "python",
   "pygments_lexer": "ipython3",
   "version": "3.5.2"
  }
 },
 "nbformat": 4,
 "nbformat_minor": 2
}
