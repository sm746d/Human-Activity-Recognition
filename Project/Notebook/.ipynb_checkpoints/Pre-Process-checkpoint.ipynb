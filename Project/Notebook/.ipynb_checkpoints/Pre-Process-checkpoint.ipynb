{
 "cells": [
  {
   "cell_type": "code",
   "execution_count": 199,
   "metadata": {
    "collapsed": false
   },
   "outputs": [],
   "source": [
    "import pandas as pd, numpy as np, os, fnmatch\n",
    "from sklearn.preprocessing import MinMaxScaler\n",
    "from sklearn.cross_validation import train_test_split\n",
    "from sklearn.preprocessing import LabelEncoder\n",
    "from keras.callbacks import TensorBoard\n",
    "from keras.models import Sequential\n",
    "from keras.utils import np_utils\n",
    "from keras.layers import *\n",
    "import tensorflow as tf\n",
    "%config IPCompleter.greedy=True"
   ]
  },
  {
   "cell_type": "code",
   "execution_count": 200,
   "metadata": {
    "collapsed": false
   },
   "outputs": [
    {
     "name": "stdout",
     "output_type": "stream",
     "text": [
      "C:\\Users\\Shaan\\PycharmProjects\\Human-Activity-Recognition\\Project\\Notebook\n"
     ]
    }
   ],
   "source": [
    "# File Loading\n",
    "print(os.getcwd())\n",
    "root = \"../Data/\"\n",
    "pre_process_Output = \"../pre_process/\"\n",
    "pattern = \"*.csv\""
   ]
  },
  {
   "cell_type": "code",
   "execution_count": 201,
   "metadata": {
    "collapsed": true
   },
   "outputs": [],
   "source": [
    "le = LabelEncoder()\n",
    "cols = ['Time', 'avgrss12', 'varrss12', 'avgrss13', 'varrss13', 'avgrss23', 'varrss23']\n",
    "all_cols = ['Time', 'avgrss12', 'varrss12', 'avgrss13', 'varrss13', 'avgrss23', 'varrss23', 'Motion']\n",
    "classes = ['Bending1', 'Bending2', 'Cycling', 'Lying', 'Sitting', 'Standing', 'Walking']\n",
    "classes = le.fit_transform(classes)\n",
    "features = ['Time', 'avgrss12', 'varrss12', 'avgrss13', 'varrss13', 'avgrss23', 'varrss23']\n",
    "target = ['Motion']"
   ]
  },
  {
   "cell_type": "code",
   "execution_count": 202,
   "metadata": {
    "collapsed": true
   },
   "outputs": [],
   "source": [
    "pdBending1 = pd.DataFrame({}, columns=cols, dtype=float)\n",
    "pdBending2 = pd.DataFrame({}, columns=cols, dtype=float)\n",
    "pdCycling = pd.DataFrame({}, columns=cols, dtype=float)\n",
    "pdLying = pd.DataFrame({}, columns=cols, dtype=float)\n",
    "pdSitting = pd.DataFrame({}, columns=cols, dtype=float)\n",
    "pdStanding = pd.DataFrame({}, columns=cols, dtype=float)\n",
    "pdWalking = pd.DataFrame({}, columns=cols, dtype=float)\n",
    "\n",
    "train = pd.DataFrame({}, columns=all_cols, dtype=float)\n",
    "test = pd.DataFrame({}, columns=all_cols, dtype=float)\n",
    "\n",
    "data = pd.DataFrame({}, columns=cols, dtype=float)"
   ]
  },
  {
   "cell_type": "code",
   "execution_count": 203,
   "metadata": {
    "collapsed": false
   },
   "outputs": [],
   "source": [
    "def trainingSet(filename, label):\n",
    "    global pdBending1, pdBending2, pdCycling, pdLying, pdSitting, pdStanding, pdWalking, train, test\n",
    "    temp_df = pd.read_csv(filename, skiprows=5, names=cols, skip_blank_lines=True)\n",
    "    scaler = MinMaxScaler(feature_range=(0, 1))\n",
    "    temp_df = pd.DataFrame(scaler.fit_transform(temp_df), columns=cols)\n",
    "    \n",
    "    if label == 'bending1':\n",
    "        temp_df['Motion'] = classes[0]\n",
    "    \n",
    "    elif label == 'bending2':\n",
    "        temp_df['Motion'] = classes[1]\n",
    "\n",
    "    elif label == 'cycling':\n",
    "        temp_df['Motion'] = classes[2]\n",
    "\n",
    "    elif label == 'lying':\n",
    "        temp_df['Motion'] = classes[3]\n",
    "\n",
    "    elif label == 'sitting':\n",
    "        temp_df['Motion'] = classes[4]\n",
    "\n",
    "    elif label == 'standing':\n",
    "        temp_df['Motion'] = classes[5]\n",
    "\n",
    "    elif label == 'walking':\n",
    "        temp_df['Motion'] = classes[6]\n",
    "    \n",
    "    train_temp, test_temp = train_test_split(temp_df, train_size=0.8)\n",
    "    if (train_temp.isnull().values.any()):\n",
    "        print(filename)\n",
    "    #if train_temp.Motion.isnull().empty:\n",
    "    #    print(filename)\n",
    "    train_temp = train_temp.sort([\"Time\"])\n",
    "    test_temp = test_temp.sort([\"Time\"])\n",
    "    \n",
    "    train = train.append(train_temp)\n",
    "    test = test.append(test_temp)"
   ]
  },
  {
   "cell_type": "code",
   "execution_count": 204,
   "metadata": {
    "collapsed": false
   },
   "outputs": [
    {
     "name": "stderr",
     "output_type": "stream",
     "text": [
      "C:\\Users\\Shaan\\Anaconda3\\lib\\site-packages\\ipykernel\\__main__.py:33: FutureWarning: sort(columns=....) is deprecated, use sort_values(by=.....)\n",
      "C:\\Users\\Shaan\\Anaconda3\\lib\\site-packages\\ipykernel\\__main__.py:34: FutureWarning: sort(columns=....) is deprecated, use sort_values(by=.....)\n"
     ]
    }
   ],
   "source": [
    "label = ''\n",
    "for root, dirs, files in os.walk(root):\n",
    "    for filename in files:\n",
    "        if fnmatch.fnmatch(filename, pattern):\n",
    "            with open(os.path.join(root, filename)) as myfile:\n",
    "                label = [next(myfile) for x in range(1)][0].split()[2]\n",
    "            trainingSet((os.path.join(root, filename)), label)"
   ]
  },
  {
   "cell_type": "code",
   "execution_count": 205,
   "metadata": {
    "collapsed": false
   },
   "outputs": [
    {
     "data": {
      "text/plain": [
       "384"
      ]
     },
     "execution_count": 205,
     "metadata": {},
     "output_type": "execute_result"
    }
   ],
   "source": [
    "train.Motion.isnull().sum()"
   ]
  },
  {
   "cell_type": "code",
   "execution_count": 209,
   "metadata": {
    "collapsed": false
   },
   "outputs": [],
   "source": [
    "train = train.dropna()"
   ]
  },
  {
   "cell_type": "code",
   "execution_count": 210,
   "metadata": {
    "collapsed": true
   },
   "outputs": [],
   "source": [
    "new_index = np.arange(len(train))\n",
    "train.index = new_index"
   ]
  },
  {
   "cell_type": "code",
   "execution_count": 211,
   "metadata": {
    "collapsed": false
   },
   "outputs": [],
   "source": [
    "# Added Dummy row\n",
    "data = [[0.0,0.0,0.0,0.0,0.0,0.0,0.0,0.0]]\n",
    "d = pd.DataFrame(data, columns = train.columns)\n",
    "train = train.append(d)\n",
    "\n",
    "new_index = np.arange(len(train))\n",
    "train.index = new_index"
   ]
  },
  {
   "cell_type": "code",
   "execution_count": 212,
   "metadata": {
    "collapsed": false
   },
   "outputs": [
    {
     "data": {
      "text/plain": [
       "(33408, 8)"
      ]
     },
     "execution_count": 212,
     "metadata": {},
     "output_type": "execute_result"
    }
   ],
   "source": [
    "train.shape"
   ]
  },
  {
   "cell_type": "code",
   "execution_count": 213,
   "metadata": {
    "collapsed": false
   },
   "outputs": [],
   "source": [
    "# Training data shuffling\n",
    "training_np = np.array(train).reshape(348, 96, 8)\n",
    "idx = np.random.randint( 348,size=348)\n",
    "arr2 = training_np[idx,:]\n",
    "arr2 = arr2.reshape(33408, 8)\n",
    "training = pd.DataFrame(arr2, columns=train.columns)"
   ]
  },
  {
   "cell_type": "code",
   "execution_count": 214,
   "metadata": {
    "collapsed": false
   },
   "outputs": [],
   "source": [
    "# Testing data Shuffling\n",
    "testing_np = np.array(test).reshape(88, 96, 8)\n",
    "idx = np.random.randint( 88,size=88)\n",
    "arr2 = testing_np[idx,:]\n",
    "arr2 = arr2.reshape(8448, 8)\n",
    "testing = pd.DataFrame(arr2, columns=test.columns)"
   ]
  },
  {
   "cell_type": "code",
   "execution_count": 216,
   "metadata": {
    "collapsed": false
   },
   "outputs": [
    {
     "data": {
      "text/plain": [
       "(33408, 8)"
      ]
     },
     "execution_count": 216,
     "metadata": {},
     "output_type": "execute_result"
    }
   ],
   "source": [
    "training.shape"
   ]
  },
  {
   "cell_type": "code",
   "execution_count": 114,
   "metadata": {
    "collapsed": true
   },
   "outputs": [],
   "source": [
    "training.to_csv(\"training.csv\")"
   ]
  },
  {
   "cell_type": "code",
   "execution_count": 217,
   "metadata": {
    "collapsed": false
   },
   "outputs": [
    {
     "name": "stderr",
     "output_type": "stream",
     "text": [
      "C:\\Users\\Shaan\\Anaconda3\\lib\\site-packages\\sklearn\\preprocessing\\label.py:151: DeprecationWarning: The truth value of an empty array is ambiguous. Returning False, but in future this will result in an error. Use `array.size > 0` to check that an array is not empty.\n",
      "  if diff:\n"
     ]
    }
   ],
   "source": [
    "# Calculating inverse transform of Motion\n",
    "training['Motion'] = le.inverse_transform(training['Motion'].astype(int))"
   ]
  },
  {
   "cell_type": "code",
   "execution_count": 218,
   "metadata": {
    "collapsed": false
   },
   "outputs": [
    {
     "name": "stderr",
     "output_type": "stream",
     "text": [
      "C:\\Users\\Shaan\\Anaconda3\\lib\\site-packages\\sklearn\\preprocessing\\label.py:151: DeprecationWarning: The truth value of an empty array is ambiguous. Returning False, but in future this will result in an error. Use `array.size > 0` to check that an array is not empty.\n",
      "  if diff:\n"
     ]
    }
   ],
   "source": [
    "testing['Motion'] = le.inverse_transform( testing['Motion'].astype(int) )"
   ]
  },
  {
   "cell_type": "code",
   "execution_count": 219,
   "metadata": {
    "collapsed": false
   },
   "outputs": [
    {
     "data": {
      "text/plain": [
       "0       Bending2\n",
       "1       Bending2\n",
       "2       Bending2\n",
       "3       Bending2\n",
       "4       Bending2\n",
       "5       Bending2\n",
       "6       Bending2\n",
       "7       Bending2\n",
       "8       Bending2\n",
       "9       Bending2\n",
       "10      Bending2\n",
       "11      Bending2\n",
       "12      Bending2\n",
       "13      Bending2\n",
       "14      Bending2\n",
       "15      Bending2\n",
       "16      Bending2\n",
       "17      Bending2\n",
       "18      Bending2\n",
       "19      Bending2\n",
       "20      Bending2\n",
       "21      Bending2\n",
       "22      Bending2\n",
       "23      Bending2\n",
       "24      Bending2\n",
       "25      Bending2\n",
       "26      Bending2\n",
       "27      Bending2\n",
       "28      Bending2\n",
       "29      Bending2\n",
       "          ...   \n",
       "8418       Lying\n",
       "8419       Lying\n",
       "8420       Lying\n",
       "8421       Lying\n",
       "8422       Lying\n",
       "8423       Lying\n",
       "8424       Lying\n",
       "8425       Lying\n",
       "8426       Lying\n",
       "8427       Lying\n",
       "8428       Lying\n",
       "8429       Lying\n",
       "8430       Lying\n",
       "8431       Lying\n",
       "8432       Lying\n",
       "8433       Lying\n",
       "8434       Lying\n",
       "8435       Lying\n",
       "8436       Lying\n",
       "8437       Lying\n",
       "8438       Lying\n",
       "8439       Lying\n",
       "8440       Lying\n",
       "8441       Lying\n",
       "8442       Lying\n",
       "8443       Lying\n",
       "8444       Lying\n",
       "8445       Lying\n",
       "8446       Lying\n",
       "8447       Lying\n",
       "Name: Motion, dtype: object"
      ]
     },
     "execution_count": 219,
     "metadata": {},
     "output_type": "execute_result"
    }
   ],
   "source": [
    "testing['Motion']"
   ]
  },
  {
   "cell_type": "code",
   "execution_count": null,
   "metadata": {
    "collapsed": true
   },
   "outputs": [],
   "source": []
  },
  {
   "cell_type": "code",
   "execution_count": 220,
   "metadata": {
    "collapsed": true
   },
   "outputs": [],
   "source": [
    "# Save pre-processed files to pre_process folder\n",
    "training.to_csv(\"../pre_process/AReM_Training.csv\", index=False )\n",
    "testing.to_csv(\"../pre_process/AReM_Testing.csv\", index=False)"
   ]
  },
  {
   "cell_type": "code",
   "execution_count": null,
   "metadata": {
    "collapsed": true
   },
   "outputs": [],
   "source": []
  }
 ],
 "metadata": {
  "kernelspec": {
   "display_name": "Python [conda root]",
   "language": "python",
   "name": "conda-root-py"
  },
  "language_info": {
   "codemirror_mode": {
    "name": "ipython",
    "version": 3
   },
   "file_extension": ".py",
   "mimetype": "text/x-python",
   "name": "python",
   "nbconvert_exporter": "python",
   "pygments_lexer": "ipython3",
   "version": "3.5.2"
  }
 },
 "nbformat": 4,
 "nbformat_minor": 2
}
